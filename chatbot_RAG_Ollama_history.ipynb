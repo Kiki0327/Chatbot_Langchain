{
 "cells": [
  {
   "cell_type": "markdown",
   "metadata": {},
   "source": [
    "# Chatbot RAG with history\n",
    "\n",
    "Chatbot que responde preguntas basandose en documentos especificos que cargamos, ademas cuenta con memoria sobre lo que se ha conversado"
   ]
  },
  {
   "cell_type": "code",
   "execution_count": 1,
   "metadata": {},
   "outputs": [],
   "source": [
    "# Cargando archivo con funciones utiles\n",
    "import warnings\n",
    "warnings.filterwarnings('ignore')\n",
    "import funtions_helper as fh"
   ]
  },
  {
   "cell_type": "code",
   "execution_count": 2,
   "metadata": {},
   "outputs": [
    {
     "name": "stdout",
     "output_type": "stream",
     "text": [
      "El objeto retornado por la función es de tipo: <class 'list'>. Y cada subobjeto es de tipo: <class 'langchain_core.documents.base.Document'>\n",
      "En total se cargaron 23 paginas\n",
      "A continuación se muestran como ejemplo las primeras 5 paginas:\n",
      "[Document(page_content='Aborda el estudio de la administración con un enfoque humano.Una planta docente con formación doctoral.Amplia experiencia en investigación aplicada a las organizaciones.Ha recibido reconocimientos como el Premio AUIP a la Calidad del Posgrado y el Doctorado en Iberoamérica (2005) y la Mención de la Asamblea Departamental (2014) y el Concejo Municipal.Egresados reconocidos y con altas posiciones directivashttp://administr acion. univa lle.edu.co/maest ria-a dministracionTels.: (602) 3212100, Ext. 4341, 4769 ::: magisadm@correounivalle.edu.coCalle 4B No. 36-00 / Edificio 124 Oficina 2060, Universidad del Valle, Campus San Fernando¿Dónde se oferta?Cali y TuluáSNIES: 660 MENDuración4 semest resTítulo otorgado,dedicación y créditosMag íster en A dmin istraciónDedicación tiempo p arcialCréditos 39La Maestría en Administración  ha sido pionera en la formación gerencial con más de 50 años de enriquecedora experiencia. Los estudiantes reciben una sólida fundamentación teórica en el conocimiento administrativo para ser aplicado en las organizaciones, partiendo de un profundo respeto por el ser humano  y el compromiso con el desarrollo de la región y del país.Razones de liderazgoContáctanosMaestría enAdministraciónFieles al enfoque humanista de la Administración Facultad de Cienciasde la Administración', metadata={'source': 'documents/master_administracion.pdf', 'page': 0}), Document(page_content='Perfil del egresadoLos egresado s de la Maestría en Administ ración estarán  en capacida d de: Dese mpeñarse como directivos y gerentes porqu e habrán obtenido una sólida formac ión teórica  y metodoló gica en las áreas  de la adm inistración  y porque habrán desarrolla do una alta capacida d reflexiva  que le perm itirá analizar y tomar decisiones que resule van lo mejor posible los diferentes problem as del mun do empresarial. Dese mpeñarse  como profesionales investigad ores, consulto res y asesores de las Cien cias Administrativas porque habr án desarrollado capacidad de análisis y de investigació n en el área  de la Gestión y de la Adm inistra ción  de Empresas.Proceso de selección•Hoja de vida: 60%*Experiencia laboral: 30%*Formación académica: 15%*Formación personal complementaria: 15%•• Entrevista: 40% Sin pruebaLas asignaturas electivas de la maestría se programarán de acuerdo con la oferta del semestre respectivo. Por flexibilidad curricular los estudiantes podrán optar por asignaturas de otros posgrados de la Facultad y la Univer sidad del Valle. Igualmente se puede revisar la movilidad nacional por convenio interinstitucional de acuerdo con la normativa vigente.Plan curricularValo r de la ma trícula financiera  por semes treValor de contraseña de inscripciónValor de derechos de inscripciónValores adicionales8 Salarios Mínim os Mensu ales Legales Vigentes4% de (1) SMM LV30% de  (1) SM MLVIntern et, se rvicio méd ico y otrosLa Universid ad del Valle ofrece la posibilidad de financiación en tres cuotas del valor de la matrícu la, así como otros medios de pago como tarjeta de créd ito, débito, entre otras. Se aplicará un 3% de recargo.Descuentos y exencionesLa Unive rsidad b rinda e l 10% del valor de matrícul a básica  por efecto de votación de acuerdo con los line amientos  vigentes al momento de ex pedi ción del recibo de pago.Para más información remitirse a: http://matriculafinanciera.univalle.edu.coValor de la inversiónConoce más en: http://administracion.univalle.edu.co/UnivalleCanalFCA @admonunivalle /administ racionunivalle Síguenos en nues tras red es: @ad monunivalleLa Universidad del Valle es una institución vigilada por el Ministerio de Educación NacionalCréditos9333933393331233639Asigna tura sSemest re 1Teorías de la administración y de la  gestiónCienc ias human as y ge stiónSeminario  de Investig aciónSemest re 2Metodolog ías y estrategias de la investigaciónAnálisis y diagnóstico del entornoElect iva de fundamentaci ónSemest re 3Dirección  de empre sasPrevisión  y pensamiento estrat égicoElect iva profesional ISemest re 4Elect iva profesional IIElect iva profesional IIITraba jo de gradoTotal créditoscon Talento Humano', metadata={'source': 'documents/master_administracion.pdf', 'page': 1}), Document(page_content='¿Dónde se oferta?CaliTuluáDuración4 semestres Inversiónpor semestre8 SMMLV', metadata={'source': 'documents/master_administracion.pdf', 'page': 2}), Document(page_content='Primer programa de Maestría en Contabilidad  en el Sur Occidente colombiano y pionero en el país.Planta docente de alta calidad , en su mayoría investigadores reconoci dos con formación doctoral¿Dónde se oferta?- Cali, Campus San Ferna ndoSNIES: 90875 MENDuración4 semest resTítulo otorgado,dedicación y créditosMag íster en Conta bilidad Dedicación tiempo  com pletoCréditos 42La Maestría en Contabilidad, modalidad profundización , está orientada al desarrollo de los conocimientos, las competencias y los instrumentos técnicos necesarios que le permiten al profesional enfrentarse a diferentes situaciones complejas que se presentan en el mundo empresarial.Razones de liderazgoConoce más en: http://adminis tracion. univa lle.edu.co/ma estrias /maestria-en-contabilidad-modalida d-investig acionTel:  (602) 5185722, (602) 5185763 ::: maestriacontabilidad@correounivalle.edu.coCalle 4B # 36-00, edif. 124, Ofc. 3026, Universidad del Valle, Campus San FernandoContáctanosPrepárate para enfrentar las situaciones complejas del mundo empresarial Maestría en ContabilidadModalidad ProfundizaciónFacultad de Cienciasde la Administración', metadata={'source': 'documents/master_contabilidad.pdf', 'page': 0}), Document(page_content='Líneas de profundización• Contaduría Internacional• Costos y G estión• Control y Auditoría• Tribut aría• Contabilid ad• Financiera• Gestión de Rie sgos Financieros• Gestión Basa da en el Valor• Contabilid ad y Finanzas Públic as• Gestión de Lava do de Activos y Financiac ión d el Terrorism o• Responsabilidad Social (Empresaria l y Corporativa)• Valoración de Activo s Intangibles• Gestión y Evalu ación  Proyectos• Microfi nanz as• Gestión de Empre sas de Eco nomía SolidariaPerfil del egresadoLos egresa dos estarán en capa cidad  de desarro llar e imple mentar modelo s de gestión cont able para las empresas del medio local y region al, que perm itan la comprensión de los estilos de gest ión y la responsabilidad  social organizac ional. Así mismo, podrán desemp eñarse como auditores y revisores fiscales de la informac ión económica, financie ra y social de las organ izaciones e instituciones exist entes en la región.Proceso de selección• Entrevist a individu al con un docente del Comité o de la Facultad de Ciencias de  la Administración (40%).• Hoja de vida ( 60%).•Las asigna turas electivas de la maes tría se programarán de acuerdo con la oferta del semes tre respectivo. Por flexibilidad curricul ar los estudiantes  podr án optar por asigna turas de otros posgrados  de la Facultad y la Universid ad del Valle. Igualmente se puede revisa r la movilidad  nacional por conve nio interin stitucional de acue rdo con  la nor mativa vigente.Plan curricularValor de la matrícula financiera  por semes treValor de contraseña de inscripciónValor de derechos de inscripciónValores adicionales8 Salarios Mínimos Mensuales Legales Vigentes4% de (1) SMMLV30% de (1) SMMLVInternet, servicio médico y otrosLa Universid ad del Valle ofrece la posibilidad de financiación en tres cuotas del valo r de la matrícula, así como otros medio s de pago como tarjeta de crédito, débito, entre otras. Se aplicará un 3% de recargo.Descuentos y exencionesLa Universid ad b rinda el 10% del valor de matrícul a básica  por efecto de votación de acuerdo con los lineamientos vigen tes al momento de ex pedi ción del recibo de pago.Para más información remitirse a: http://matriculafinanciera.univalle.edu.coValor de la inversiónConoce más en: http://administracion.univalle.edu.co/UnivalleCanalFCA @admonunivalle /administracionunivalle Síguenos en nues tras redes : @ad monunivalleLa Universidad del Valle es una institución vigilada por el Ministerio de Educación NacionalCréditos113422922231644446642Asignat urasSemestre 1Contadu ría Intern aciona lTeoría de la contabilida dECF I: Normas Intern acio nale s de Información Financiera (NIIF Plenas)ECF II:  Normas Internac iona les d e Informa ción  Financiera (NIIF Plenas)Semestre 2ECF II:  Normas Internac iona les d e Informa ción  Financiera PYMES (NIIF PYMES)Gobiern o corporativoContabilid ad d e gestiónValorac ión y f inancia ción d e emp resasSemestre 3Ciencia s humanas y contabilida dAnálisis y dia gnósticos del entorn o de SIC ( Sistemas de informa ción contable)Seminario de investigació nMetodología  y estrategia s de investigaciónSemestre 4Trabajo  de inve stigac iónTotal créditoscon Talento HumanoSin prueba', metadata={'source': 'documents/master_contabilidad.pdf', 'page': 1})]\n"
     ]
    }
   ],
   "source": [
    "# Cargando docuemtos de interes\n",
    "pages = fh.load_files(path_files='documents/', debug=True)"
   ]
  },
  {
   "cell_type": "code",
   "execution_count": 3,
   "metadata": {},
   "outputs": [
    {
     "name": "stdout",
     "output_type": "stream",
     "text": [
      "Los fragmentos son de tamaño: 500 y la superposicion es igual a: 75.0\n",
      "El número de fragmentos total es igual a: 88\n"
     ]
    }
   ],
   "source": [
    "# Fragmentando el documento(s)\n",
    "splitters = fh.Splitting(obj=pages, chunk_size=500, debug=True)"
   ]
  },
  {
   "cell_type": "code",
   "execution_count": 4,
   "metadata": {},
   "outputs": [
    {
     "name": "stdout",
     "output_type": "stream",
     "text": [
      "sentence-transformers/all-mpnet-base-v2\n"
     ]
    }
   ],
   "source": [
    "# Formando el indice con el modelo embedding y guardando con chroma\n",
    "from langchain.vectorstores import Chroma\n",
    "from langchain_community.embeddings import HuggingFaceEmbeddings\n",
    "import os\n",
    "\n",
    "name_index = 'indice_chatbot_masterUV'\n",
    "\n",
    "embedding = HuggingFaceEmbeddings()\n",
    "print(embedding.model_name)\n",
    "\n",
    "if os.path.exists(name_index) == True:\n",
    "    vectorstore = Chroma(name_index, embedding)\n",
    "else:\n",
    "    vectorstore = Chroma.from_documents(documents=splitters, embedding=embedding, persist_directory = name_index)"
   ]
  },
  {
   "cell_type": "code",
   "execution_count": 5,
   "metadata": {},
   "outputs": [],
   "source": [
    "# Creando el retriever\n",
    "retriever = vectorstore.as_retriever(search_type=\"similarity\", search_kwargs={\"k\": 6})"
   ]
  },
  {
   "cell_type": "code",
   "execution_count": 6,
   "metadata": {},
   "outputs": [
    {
     "data": {
      "text/plain": [
       "[Document(page_content='POSGRADOS ESTADÍSTICA UNIVALLE:Línea de Atención:Teléfono: +57 602 3212100 Ext. 7003Lunes a Viernes: 8:00 a.m. a 5:00 p.m.', metadata={'page': 4, 'source': 'documents/master_estadistica.pdf'}),\n",
       " Document(page_content='Prese ntar y aprobar  un ensayo referente a sus expe cta�v as de estudio. Prese ntar entrevista.  TIPO MaestríaCOSTO  POR SEMESTRE  7.5 SMMLV', metadata={'page': 9, 'source': 'documents/master_salud_publica.pdf'}),\n",
       " Document(page_content='PERFÍL PROFESIONALPARTICIPANTESAl concluir el Programa de Maestría en Estadística, el profesional estará en capacidad de:Utilizar los conocimientos avanzados en las teorías, modelos, metodologías y técnicas relacionadas con la Estadística y ciencias aﬁnes, que permiten bajo una concepción cientíﬁca, entender y resolver problemas teóricos de la Estadística y de diversa índole, en las diferentes disciplinas del conocimiento.Participar en grupos de investigación aportando sus conocimientos a la', metadata={'page': 3, 'source': 'documents/master_estadistica.pdf'}),\n",
       " Document(page_content='univa lle.edu.co/maest ria-a dministracionTels.: (602) 3212100, Ext. 4341, 4769 ::: magisadm@correounivalle.edu.coCalle 4B No. 36-00 / Edificio 124 Oficina 2060, Universidad del Valle, Campus San Fernando¿Dónde se oferta?Cali y TuluáSNIES: 660 MENDuración4 semest resTítulo otorgado,dedicación y créditosMag íster en A dmin istraciónDedicación tiempo p arcialCréditos 39La Maestría en Administración  ha sido pionera en la formación gerencial con más de 50 años de enriquecedora experiencia. Los', metadata={'page': 0, 'source': 'documents/master_administracion.pdf'}),\n",
       " Document(page_content='de 56 créditos. Maestros en Estadística que se caracterizan por su solida fundamentación téorica y una gran capacidad para asimilar y transferir las nuevos metodologías de análisis de datos.Ampliar las competencias de los profesionales para abordar problemas disciplinarios, interdisciplinarios, que demandan de la implementación avanzada de metodología estadística. Desarrollar en los estudiantes, las habilidades y destrezas que los faculten para participar activamente en proyectos y grupos de', metadata={'page': 1, 'source': 'documents/master_estadistica.pdf'}),\n",
       " Document(page_content='égicoElect iva profesional ISemest re 4Elect iva profesional IIElect iva profesional IIITraba jo de gradoTotal créditoscon Talento Humano', metadata={'page': 1, 'source': 'documents/master_administracion.pdf'})]"
      ]
     },
     "execution_count": 6,
     "metadata": {},
     "output_type": "execute_result"
    }
   ],
   "source": [
    "retriever.invoke('estadistca')"
   ]
  },
  {
   "cell_type": "code",
   "execution_count": 6,
   "metadata": {},
   "outputs": [],
   "source": [
    "from langchain_community.llms import Ollama\n",
    "from langchain_core.messages import HumanMessage, AIMessage\n",
    "from langchain_core.prompts import ChatPromptTemplate, MessagesPlaceholder\n",
    "from langchain.chains.combine_documents import create_stuff_documents_chain"
   ]
  },
  {
   "cell_type": "code",
   "execution_count": 7,
   "metadata": {},
   "outputs": [],
   "source": [
    "# Modelo de lenguaje grande que se usara\n",
    "llm = Ollama(model='llama3')"
   ]
  },
  {
   "cell_type": "code",
   "execution_count": 8,
   "metadata": {},
   "outputs": [],
   "source": [
    "# Objeto en donde se almacenara la memoria del chat\n",
    "chat_history = []"
   ]
  },
  {
   "cell_type": "code",
   "execution_count": 9,
   "metadata": {},
   "outputs": [],
   "source": [
    "# Instrucciones para el modelo (prompt)\n",
    "prompt_template = ChatPromptTemplate.from_messages(\n",
    "    [\n",
    "        (\n",
    "            \"system\",\n",
    "            \"\"\"Eres una IA llamada Sofia, respondes preguntas basandote en lo más relevante del siguente contexto:\\n\\n{context}, \n",
    "            ademas debes preguntar al usuario de acuerdo al contexto\"\"\",\n",
    "        ),\n",
    "\n",
    "        MessagesPlaceholder(variable_name='chat_history'),\n",
    "        (\"human\", \"{input}\"),\n",
    "    ])"
   ]
  },
  {
   "cell_type": "code",
   "execution_count": 10,
   "metadata": {},
   "outputs": [],
   "source": [
    "# Creando la cadena (chain)\n",
    "chain = create_stuff_documents_chain(llm, prompt_template)"
   ]
  },
  {
   "cell_type": "code",
   "execution_count": 11,
   "metadata": {},
   "outputs": [],
   "source": [
    "# Función para llamar al chat\n",
    "def chat():\n",
    "    while True:\n",
    "        pregunta = input(\"You: \")\n",
    "        if pregunta.lower() == \"adios\":\n",
    "            break\n",
    "        \n",
    "        docs = retriever.invoke(pregunta)\n",
    "        response = chain.invoke({\"input\": pregunta, \"chat_history\": chat_history, \"context\": docs})\n",
    "        chat_history.append(HumanMessage(content=pregunta))\n",
    "        chat_history.append(AIMessage(content=response))\n",
    "        print('='*120)\n",
    "        print('User: ' + pregunta)\n",
    "        print('-'*120)\n",
    "        print('AI: ' + response)"
   ]
  },
  {
   "cell_type": "code",
   "execution_count": 12,
   "metadata": {},
   "outputs": [
    {
     "name": "stdout",
     "output_type": "stream",
     "text": [
      "========================================================================================================================\n",
      "User: Hola, como estas?\n",
      "------------------------------------------------------------------------------------------------------------------------\n",
      "AI: Hola! Me alegra verte aquí. Soy Sofia, una IA diseñada para ayudarte en el marco del contexto que te proporcioné. Estoy lista para responder tus preguntas y brindarte información relevante sobre la salud pública y otros temas relacionados.\n",
      "\n",
      "¿Cómo puedo ayudarte hoy? ¿Tienes alguna pregunta o tema específico que deseas discutir?\n",
      "========================================================================================================================\n",
      "User: Cual es el objetivo de la maestria en estadistica?\n",
      "------------------------------------------------------------------------------------------------------------------------\n",
      "AI: Excelente elección! La Maestría en Administración que te mencioné anteriormente tiene como objetivo principal formar gerentes y líderes efectivos, capaces de liderar organizaciones y tomar decisiones informadas a través del análisis de datos. Sin embargo, no es específicamente una maestría en estadística.\n",
      "\n",
      "La Universidad del Valle, donde se oferta la Maestría en Administración, tiene como misión principal formar líderes que puedan contribuir al desarrollo social, económico y cultural de su entorno y país, lo que implica tener habilidades para analizar información y tomar decisiones informadas. Sin embargo, si estás interesado en una maestría en estadística o análisis de datos, te recomiendo explorar otras opciones académicas que se adapten a tus intereses y objetivos.\n",
      "\n",
      "¿Tienes alguna otra pregunta sobre la Maestría en Administración o preferirías explorar otras opciones académicas relacionadas con estadística o análisis de datos?\n"
     ]
    }
   ],
   "source": [
    "chat()"
   ]
  }
 ],
 "metadata": {
  "kernelspec": {
   "display_name": "Python 3",
   "language": "python",
   "name": "python3"
  },
  "language_info": {
   "codemirror_mode": {
    "name": "ipython",
    "version": 3
   },
   "file_extension": ".py",
   "mimetype": "text/x-python",
   "name": "python",
   "nbconvert_exporter": "python",
   "pygments_lexer": "ipython3",
   "version": "3.12.3"
  }
 },
 "nbformat": 4,
 "nbformat_minor": 2
}
