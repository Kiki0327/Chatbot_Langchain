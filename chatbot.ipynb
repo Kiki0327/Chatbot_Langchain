{
 "cells": [
  {
   "cell_type": "code",
   "execution_count": 1,
   "metadata": {},
   "outputs": [
    {
     "ename": "ImportError",
     "evalue": "cannot import name 'PYPDFloader' from 'langchain.document_loaders' (c:\\Users\\USER\\AppData\\Local\\Programs\\Python\\Python312\\Lib\\site-packages\\langchain\\document_loaders\\__init__.py)",
     "output_type": "error",
     "traceback": [
      "\u001b[1;31m---------------------------------------------------------------------------\u001b[0m",
      "\u001b[1;31mImportError\u001b[0m                               Traceback (most recent call last)",
      "Cell \u001b[1;32mIn[1], line 1\u001b[0m\n\u001b[1;32m----> 1\u001b[0m \u001b[38;5;28;01mimport\u001b[39;00m \u001b[38;5;21;01mfuntions_helper\u001b[39;00m \u001b[38;5;28;01mas\u001b[39;00m \u001b[38;5;21;01mfh\u001b[39;00m\n",
      "File \u001b[1;32mc:\\Users\\USER\\Proyectos\\Chatbot_Langchain\\funtions_helper.py:1\u001b[0m\n\u001b[1;32m----> 1\u001b[0m \u001b[38;5;28;01mfrom\u001b[39;00m \u001b[38;5;21;01mlangchain\u001b[39;00m\u001b[38;5;21;01m.\u001b[39;00m\u001b[38;5;21;01mdocument_loaders\u001b[39;00m \u001b[38;5;28;01mimport\u001b[39;00m PYPDFloader\n\u001b[0;32m      3\u001b[0m \u001b[38;5;28;01mdef\u001b[39;00m \u001b[38;5;21mload_files\u001b[39m(path_files:\u001b[38;5;28mlist\u001b[39m):\n\u001b[0;32m      4\u001b[0m \u001b[38;5;250m    \u001b[39m\u001b[38;5;124;03m\"\"\"\u001b[39;00m\n\u001b[0;32m      5\u001b[0m \u001b[38;5;124;03m    Cargador de documentos en formato PDF.\u001b[39;00m\n\u001b[0;32m      6\u001b[0m \n\u001b[1;32m   (...)\u001b[0m\n\u001b[0;32m     11\u001b[0m \u001b[38;5;124;03m        Una lista de objetos Document.\u001b[39;00m\n\u001b[0;32m     12\u001b[0m \u001b[38;5;124;03m    \"\"\"\u001b[39;00m\n",
      "\u001b[1;31mImportError\u001b[0m: cannot import name 'PYPDFloader' from 'langchain.document_loaders' (c:\\Users\\USER\\AppData\\Local\\Programs\\Python\\Python312\\Lib\\site-packages\\langchain\\document_loaders\\__init__.py)"
     ]
    }
   ],
   "source": [
    "import funtions_helper as fh"
   ]
  },
  {
   "cell_type": "code",
   "execution_count": 2,
   "metadata": {},
   "outputs": [],
   "source": [
    "import pypdf"
   ]
  },
  {
   "cell_type": "code",
   "execution_count": 3,
   "metadata": {},
   "outputs": [
    {
     "name": "stdout",
     "output_type": "stream",
     "text": [
      "aiohttp==3.9.5\n",
      "aiosignal==1.3.1\n",
      "annotated-types==0.6.0\n",
      "asttokens==2.4.1\n",
      "attrs==23.2.0\n",
      "certifi==2024.2.2\n",
      "charset-normalizer==3.3.2\n",
      "colorama==0.4.6\n",
      "comm==0.2.2\n",
      "dataclasses-json==0.6.4\n",
      "debugpy==1.8.1\n",
      "decorator==5.1.1\n",
      "executing==2.0.1\n",
      "frozenlist==1.4.1\n",
      "greenlet==3.0.3\n",
      "idna==3.7\n",
      "ipykernel==6.29.4\n",
      "ipython==8.23.0\n",
      "jedi==0.19.1\n",
      "jsonpatch==1.33\n",
      "jsonpointer==2.4\n",
      "jupyter_client==8.6.1\n",
      "jupyter_core==5.7.2\n",
      "langchain==0.1.16\n",
      "langchain-community==0.0.34\n",
      "langchain-core==0.1.46\n",
      "langchain-text-splitters==0.0.1\n",
      "langsmith==0.1.51\n",
      "marshmallow==3.21.1\n",
      "matplotlib-inline==0.1.7\n",
      "multidict==6.0.5\n",
      "mypy-extensions==1.0.0\n",
      "nest-asyncio==1.6.0\n",
      "numpy==1.26.4\n",
      "orjson==3.10.1\n",
      "packaging==23.2\n",
      "parso==0.8.4\n",
      "platformdirs==4.2.0\n",
      "prompt-toolkit==3.0.43\n",
      "psutil==5.9.8\n",
      "pure-eval==0.2.2\n",
      "pydantic==2.7.1\n",
      "pydantic_core==2.18.2\n",
      "Pygments==2.17.2\n",
      "pypdf==4.2.0\n",
      "python-dateutil==2.9.0.post0\n",
      "pywin32==306\n",
      "PyYAML==6.0.1\n",
      "pyzmq==26.0.2\n",
      "requests==2.31.0\n",
      "six==1.16.0\n",
      "SQLAlchemy==2.0.29\n",
      "stack-data==0.6.3\n",
      "tenacity==8.2.3\n",
      "tornado==6.4\n",
      "traitlets==5.14.3\n",
      "typing-inspect==0.9.0\n",
      "typing_extensions==4.11.0\n",
      "urllib3==2.2.1\n",
      "wcwidth==0.2.13\n",
      "yarl==1.9.4\n",
      "Note: you may need to restart the kernel to use updated packages.\n"
     ]
    }
   ],
   "source": [
    "pip freeze"
   ]
  }
 ],
 "metadata": {
  "kernelspec": {
   "display_name": "Python 3",
   "language": "python",
   "name": "python3"
  },
  "language_info": {
   "codemirror_mode": {
    "name": "ipython",
    "version": 3
   },
   "file_extension": ".py",
   "mimetype": "text/x-python",
   "name": "python",
   "nbconvert_exporter": "python",
   "pygments_lexer": "ipython3",
   "version": "3.12.3"
  }
 },
 "nbformat": 4,
 "nbformat_minor": 2
}
