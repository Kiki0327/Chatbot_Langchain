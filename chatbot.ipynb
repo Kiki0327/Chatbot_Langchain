{
 "cells": [
  {
   "cell_type": "markdown",
   "metadata": {},
   "source": [
    "# Notebook pruebas chatbot"
   ]
  },
  {
   "cell_type": "markdown",
   "metadata": {},
   "source": [
    "### Modulos instalados"
   ]
  },
  {
   "cell_type": "raw",
   "metadata": {
    "vscode": {
     "languageId": "raw"
    }
   },
   "source": [
    "pip install langchain pypdf pycryptodome sentence-transformers"
   ]
  },
  {
   "cell_type": "markdown",
   "metadata": {},
   "source": [
    "### Llamando funciones y librerias"
   ]
  },
  {
   "cell_type": "code",
   "execution_count": 1,
   "metadata": {},
   "outputs": [],
   "source": [
    "import funtions_helper as fh"
   ]
  },
  {
   "cell_type": "markdown",
   "metadata": {},
   "source": [
    "### Cargando documentos"
   ]
  },
  {
   "cell_type": "code",
   "execution_count": 2,
   "metadata": {},
   "outputs": [
    {
     "name": "stdout",
     "output_type": "stream",
     "text": [
      "El objeto retornado por la función es de tipo: <class 'list'>. Y cada subobjeto es de tipo: <class 'langchain_core.documents.base.Document'>\n",
      "En total se cargaron 40 paginas\n",
      "A continuación se muestran como ejemplo las primeras 5 paginas:\n",
      "[Document(page_content='La clínica y el laboratorio\\nMedicina & Laboratorio, Volumen 13, números 11-12, 2007\\n5111 Médico especialista en Hematología y Patología Clínica. Profesor, Ad Honorem, Universidad de Antioquia. Director, Laboratorio \\nClínico Hematológico S.A. Medellín, Colombia. Correspondencia: Carrera 43C No. 5-33, Medellín, Colombia. e-mail: gcampu -\\nzano@hematologico.comDel hemograma manual  \\nal hemograma de cuarta generación\\nGermán Campuzano Maya1\\nResumen: el hemograma o cuadro hemático es una de las pruebas que más se solicita al \\nlaboratorio clínico, y sin duda alguna, la prueba de laboratorio que más aporta al clínico en \\nla evaluación de un paciente. Desde el punto de vista técnico se reconocen seis tipos de hemograma, que van desde los tradicionales que se hacen con métodos manuales hasta los más sofisticados que se hacen con métodos electrónicos que utilizan una combinación de tecnologías. Se establecen los criterios que definen los tipos de hemograma y se analizan los parámetros desde el punto de vista metodológico, los valores de referencia, las indicaciones clínicas y los aspectos críticos de cada parámetro de acuerdo con la metodología utilizada. El médico debe solicitar el hemograma que le permita tener mayor certeza analítica posible en los parámetros reportados y el laboratorio clínico debe hacer la inversión tecnológica que le permita ofrecer resultados lo más precisos y exactos posible.\\nPalabras clave:  hemograma, cuadro hemático, recuento de células, laboratorio, utilidad \\nclínica, valores de referencia. Campuzano-Maya G . Del hemograma manual al hemograma de cuarta generación. Medicina \\n& Laboratorio 2007; 13: 511-550.Módulo 1 (La clínica y el laboratorio), número 65. Editora Médica Colombiana S.A., 2007\\n©.\\nEl hemograma, también conocido como cuadro hemático, biometría hemática o \\nrecuento de células sanguíneas, junto con la glicemia y el citoquímico de ori -\\nna (uroanálisis), es una de las pruebas más solicitadas al laboratorio clínico y \\nuno de los estudios que mayor información aporta al médico sobre la homeostasis de un individuo. A través del tiempo, el hemograma ha sido objeto de múltiples modifica -\\nciones en cuanto a los parámetros que lo componen, la forma de obtenerlos, los grados de precisión y de exactitud y la manera de interpretarlo. Para una mejor utilización de los parámetros que el hemograma aporta es de vital importancia conocer el desarrollo que ha acompañado a la prueba y el laboratorio clínico debe permanecer atento al de -\\nsarrollo tecnológico para incorporar los aspectos de mayor relevancia desde el punto de vista clínico, como una herramienta de rutina que le permita tener pruebas cada vez más exactas, más precisas, a un costo razonable y, sobretodo, de mayor utilidad clínica.\\nEl objetivo de este módulo es analizar los diferentes tipos de hemogramas, de tal manera que \\nel médico disponga de información que le permita utilizar la prueba en toda su dimensión en el diagnóstico y el tratamiento de enfermedades de la sangre o fuera de ella, y que el laboratorio clínico tenga elementos de análisis para tomar decisiones al momento de hacer la prueba o de incorporar tecnología. \\n', metadata={'source': 'C:/Users/USER/Proyectos/Documentos/hemograma.pdf', 'page': 0}), Document(page_content='Medicina & Laboratorio, Volumen 13, números 11-12, 2007\\n512Del hemograma manual al hemograma de cuarta generación\\nAnatomía del sistema hematopoyético\\nPara una mejor interpretación del hemograma es necesario conocer algunos principios del \\ndesarrollo y de la fisiología del sistema hematopoyético. La hematopoyesis es el proceso o la suma de subprocesos que regulan el sistema hematopoyético como un órgano, que a pesar de ser líquido, no hay duda de que es uno de los órganos más grandes del organismo con un peso promedio de 2,6 kilos [1]. En estado de equilibrio (homeostasis) los eritrocitos viven 120 días [2 ], los polimorfonucleares neutrófilos, los polimorfonucleares eosinófilos y los polimorfonucleares basófilos de 8 a 10 horas, los monocitos de 16 a 18 horas, los linfocitos, dependiendo de los subtipos, pueden vivir días, semanas, meses o años y las plaquetas de 9 a 10 días [3, 4].\\nTodas las células de la sangre son formadas en la medula ósea con una dinámica como se \\nesquematiza en la figura 1 . A partir de una célula madre (troncal, tronco o stem cell ), mediante \\nfactores de crecimiento, usualmente citoquinas, las células madre se diferencian en células pluripotenciales: las CMP para la línea mieloide, de donde se derivan los polimorfonucleares \\nFigura 1. Hematopoyesis. Convenciones: HSC: célula madre hematopoyética; CMP: célula progenitora \\nmieloide; CLP: célula progenitora linfoide; CFU-GEMM: unidad formadora de colonias granulocíticas, \\neritroides, megacariocíticas y monocíticas; CFU-GM: unidad formadora de colonias granulocíticas y monocíticas.\\n', metadata={'source': 'C:/Users/USER/Proyectos/Documentos/hemograma.pdf', 'page': 1}), Document(page_content='Medicina & Laboratorio, Volumen 13, números 11-12, 2007\\n513Germán Campuzano Maya\\nneutrófilos, los polimorfonucleares eosinófilos y los polimorfonucleares basófilos, y las CLP \\npara las líneas linfoides de donde se derivan los linfocitos que forman parte del timo, bazo \\ny ganglios linfáticos, entre otros órganos. A su vez, cada una de éstas dan origen a unidades formadoras de colonias (CFU) unipotenciales o bipotenciales que a su vez dan origen a células precursoras de eritrocitos, granulocitos, monocitos, linfocitos y plaquetas [5]. Una vez defini -\\ndas como células precursoras, mediante procesos de maduración, adquieren las características morfológicas y funcionales y son «liberadas» a la circulación sanguínea [5]. \\nEl hemograma como prueba de laboratorio permite tener una visión global de la homeostasis \\ndel sistema hematopoyético, de ahí la importancia de que se evalúen el mayor número de parámetros y, sobretodo, de que éstos tengan la mayor precisión y exactitud posibles, carac -\\nterísticas que fácilmente se pueden lograr gracias a los grandes avances en el laboratorio de hematología mediante la incorporación de autoanalizadores de hematología de alta eficiencia. Este módulo, sin pretender agotar el tema, busca presentar a la comunidad científica una visión global de la prueba. \\nEl hemograma como una prueba de laboratorio clínico \\nAnte todo, es importante definir el hemograma como un perfil o conjunto de exámenes que evalúan los diferentes elementos celulares de la sangre, esto es los glóbulos rojos, los leuco -\\ncitos y las plaquetas, y su interacción con el plasma y sus componentes, como las proteínas [6]. Desde el punto de vista del desarrollo tecnológico, acorde con la época y la disponibilidad de los laboratorios clínicos, el hemograma puede estar compuesto por unos pocos parámetros como la hemoglobina, el hematocrito y el recuento total y diferencial de leucocitos por mé-todos manuales, como el hemograma tipo I de la Sociedad Colombiana de Patología Clínica [7] y del Ministerio de Protección Social de Colombia [8], hasta los modernos hemogramas, con más de 30 parámetros, de cuarta generación de los autoanalizadores de hematología [9], como el hemograma tipo VI de la Sociedad Colombiana de Patología Clínica [7], disponible en el medio. \\nEl hemograma se define como el análisis cuantitativo y cualitativo de los componentes celulares \\nde la sangre periférica. Las diferencias y las variaciones en la metodología utilizada definen el tipo de hemograma, el número de parámetros o datos aportados y los coeficientes de variación, como índice de precisión y de exactitud, de cada una de las medidas. La utilidad clínica de la prueba está en relación directa con la calidad analítica y el número de parámetros que lo com -\\nponen, esto es con la exactitud y la precisión de los resultados. De acuerdo con la metodología utilizada y los parámetros que lo componen, en el medio se reconocen seis tipos de hemograma, debidamente codificados y definidos por la Sociedad Colombiana de Patología Clínica [7] que coinciden en su mayoría con los definidos por el Colegio Americano de Patólogos [10] que a su vez, son reconocidos por la Asociación Médica Americana y el Colegio Americano de Patólogos [10] y han sido acogidos por el Ministerio de la Protección Social de Colombia como base de los manuales de contenidos de los planes de salud (CUPS) [8], con excepción de los hemogramas tipo V y VI, recientemente incorporados a los laboratorios clínicos del país. A continuación se relacionan los parámetros que componen los diferentes tipos de hemogramas, incluyendo entre paréntesis los códigos de la Sociedad Colombiana de Patología Clínica [7]:\\nHemograma tipo I \\n ■ (14700): hemoglobina, hematocrito, recuento de eritrocitos, índices \\neritrocitarios (volumen corpuscular medio, hemoglobina corpuscular media, concentración de la hemoglobina corpuscular media), recuento total de leucocitos, y recuento diferencial de leucocitos y morfología por métodos manuales. No incluye sedimentación.\\nHemograma tipo II\\n ■  (14800): hemoglobina, hematocrito, recuento de eritrocitos, índices \\neritrocitarios (volumen corpuscular medio, hemoglobina corpuscular media, concentración \\nde la hemoglobina corpuscular media), recuento total de leucocitos, recuento diferencial \\n', metadata={'source': 'C:/Users/USER/Proyectos/Documentos/hemograma.pdf', 'page': 2}), Document(page_content='Medicina & Laboratorio, Volumen 13, números 11-12, 2007\\n514Del hemograma manual al hemograma de cuarta generación\\nde leucocitos, recuento de plaquetas y morfología por métodos manuales. No incluye \\nsedimentación.\\nHemograma tipo III  ■ (14900): hemoglobina, hematocrito, recuento de eritrocitos, índices \\neritrocitarios (volumen corpuscular medio, hemoglobina corpuscular media, concentración \\nde la hemoglobina corpuscular media), recuento total de leucocitos,  y recuento diferencial de leucocitos, recuento de plaquetas por métodos semiautomáticos y morfología por métodos manuales. No incluye sedimentación.\\nHemograma tipo IV\\n ■  (1500): hemoglobina, hematocrito, recuento de eritrocitos, índices \\neritrocitarios (volumen corpuscular medio, hemoglobina corpuscular media, concentración \\nde la hemoglobina corpuscular media), ancho de distribución de los eritrocitos, recuento total de leucocitos, recuento diferencial de leucocitos, recuento de plaquetas y morfología de sangre periférica por métodos electrónicos y manuales. No incluye sedimentación.\\nHemograma tipo V \\n ■ (15100): hemoglobina, hematocrito, recuento de eritrocitos, índices \\neritrocitarios (volumen corpuscular medio, hemoglobina corpuscular media, concentración \\nde la hemoglobina corpuscular media), ancho de distribución de los eritrocitos, recuento total de leucocitos, recuento diferencial de leucocitos, recuento de plaquetas, índices pla -\\nquetarios (volumen medio plaquetario, ancho de distribución de las plaquetas, plaqueto -\\ncrito) y morfología de sangre periférica por métodos electrónicos y manuales. No incluye sedimentación.\\nHemograma tipo VI\\n ■  (15150): hemoglobina, hematocrito, recuento de eritrocitos, índices \\neritrocitarios (volumen corpuscular medio, hemoglobina corpuscular media, concentración \\nde la hemoglobina corpuscular media), ancho de distribución de los eritrocitos, recuento de reticulocitos, índices reticulocitarios, hemoglobina reticulocitaria, recuento total de leucocitos,  recuento diferencial de leucocitos, recuento de plaquetas, índices plaquetarios (volumen medio plaquetario, ancho de distribución de las plaquetas, plaquetocrito), pla-quetas reticuladas y morfología de sangre periférica por métodos electrónicos y manuales. No incluye sedimentación\\nEl hemograma como prueba integral está compuesto por tres grupos de parámetros, a saber: el eritrograma, el leucograma y el trombograma y en este orden serán analizados.\\nEritrograma\\nSe define como el análisis cuantitativo y cualitativo de los parámetros relacionados con los eritrocitos en sangre periférica. Del eritrograma hacen parte los parámetros convencionales como el recuento de eritrocitos, la hemoglobina, el hematocrito y los índices eritrocitarios y los nuevos parámetros, derivados de la incorporación de los autoanalizadores de hematología al laboratorio clínico, como el ancho de distribución de los eritrocitos, el ancho de distribución de la hemoglobina, el recuento de reticulocitos, incluidos los nuevos parámetros con ellos relacionados, y la hemoglobina reticulocitaria, que serán analizados en los siguientes subtítu -\\nlos. Además de los parámetros cuantitativos, también hacen parte integral del eritrograma el estudio de la morfología de los eritrocitos en extendidos de sangre periférica, que, junto a la morfología de leucocitos y plaquetas, se analizarán en un próximo módulo.\\nRecuento de eritrocitos\\nConsiste en determinar la cantidad de eritrocitos en sangre periférica por unidad de volu -\\nmen por microlitro ( μL), milímetro cúbico (mm3) o litro (L) de acuerdo con el sistema de \\nunidades adoptado en el laboratorio clínico o en la región. Desde el punto de vista de la metodología disponible en el laboratorio clínico, el recuento de eritrocitos puede ser manual o electrónico.\\n', metadata={'source': 'C:/Users/USER/Proyectos/Documentos/hemograma.pdf', 'page': 3}), Document(page_content='Medicina & Laboratorio, Volumen 13, números 11-12, 2007\\n515Germán Campuzano Maya\\nRecuento manual\\nEl recuento manual de eritrocitos se utiliza en \\nlos hemogramas tipo I y tipo II definidos por \\nla Sociedad Colombiana de Patología Clínica [7] y el Ministerio de la Protección Social de Colombia [8]. Para hacer el recuento de eritrocitos por método manual se requiere pipeta de dilución para glóbulos rojos como se muestra en la figura 2 y cámara de Neubauer que se \\nmuestran en las figuras 3 y 4, y un microscopio convencional [11-13]. El recuento manual \\nde eritrocitos es un procedimiento tedioso, de alto consumo de tiempo del profesional, 6 a 8 minutos en promedio, de acuerdo con el Colegio Americano de Patólogos (CAP) [10] y a pesar de que se haga con las mejores especificaciones metodológicas tiene un coeficiente de variación muy amplio (10% a 22%) [14], por lo cual esta tecnología prácticamente ha desaparecido de los laboratorios clínicos al ser reemplazada por los contadores de células o autoanalizadores de hematología. Además, como consecuencia de lo anterior, los parámetros que de él dependen, en particular el volumen corpuscular medio, indispensable en la clasificación morfológica de las anemias de acuerdo con los criterios de Wintrobe [15], no son confiables y en estas circunstancias es mejor no ofertarlo.\\nRecuento electrónico\\nLa medida del número de células, ya sea eritrocitos, leucocitos o plaquetas, en la mayoría de los autoanalizadores de hematología suele realizarse simultáneamente con el tamaño de las células y para ello aprovechan las variaciones que se presentan en un campo electromagnético en el cual se suspenden las células objeto del estudio. Desde el punto de vista tecnológico, la mayoría de los recuentos electrónicos de eritrocitos, así como el recuento total de leucocitos y de plaquetas se hace utilizando la impedancia eléctrica [13].\\nImpedancia eléctrica \\nTambién conocida como principio Coulter, en honor al ingeniero Wallece Henry Coulter quien lo describió en 1956 [16], no sólo revolucionó la hematología sino que inició la era de los autoanalizadores de hematología, con excelente eficiencia analítica (precisión y exactitud), y ha aportado nuevos parámetros de utilidad clínica. El método se basa en la resistencia que presentan las células, que no son conductoras eléctricas, al paso de la corriente eléctrica cuando \\nFigura 3.  Cámara de Neubauer.\\nFigura 2.  Pipeta de dilución para glóbulos rojos \\ny plaquetas.\\nFigura 4.  Detalle de la cámara de Neubauer. El \\nárea total de la cámara es de 3x3 mm, con 9 cua -\\ndrados grandes. Los eritrocitos se cuentan en los \\n5 cuadrados coloreados.\\n', metadata={'source': 'C:/Users/USER/Proyectos/Documentos/hemograma.pdf', 'page': 4})]\n"
     ]
    }
   ],
   "source": [
    "pages = fh.load_files(path_files='C:/Users/USER/Proyectos/Documentos/', debug=True)"
   ]
  },
  {
   "cell_type": "markdown",
   "metadata": {},
   "source": [
    "### Fragmentando"
   ]
  },
  {
   "cell_type": "code",
   "execution_count": 3,
   "metadata": {},
   "outputs": [
    {
     "name": "stdout",
     "output_type": "stream",
     "text": [
      "Los fragmentos son de tamaño: 1000 y la superposicion es igual a: 100.0\n",
      "El número de fragmentos total es igual a: 175\n"
     ]
    }
   ],
   "source": [
    "splitters = fh.Splitting(obj=pages, chunk_size=1000, debug=True)"
   ]
  },
  {
   "cell_type": "markdown",
   "metadata": {},
   "source": [
    "### Embeddings"
   ]
  },
  {
   "cell_type": "code",
   "execution_count": 4,
   "metadata": {},
   "outputs": [
    {
     "name": "stderr",
     "output_type": "stream",
     "text": [
      "c:\\Users\\USER\\AppData\\Local\\Programs\\Python\\Python312\\Lib\\site-packages\\tqdm\\auto.py:21: TqdmWarning: IProgress not found. Please update jupyter and ipywidgets. See https://ipywidgets.readthedocs.io/en/stable/user_install.html\n",
      "  from .autonotebook import tqdm as notebook_tqdm\n",
      "c:\\Users\\USER\\AppData\\Local\\Programs\\Python\\Python312\\Lib\\site-packages\\huggingface_hub\\file_download.py:148: UserWarning: `huggingface_hub` cache-system uses symlinks by default to efficiently store duplicated files but your machine does not support them in C:\\Users\\USER\\.cache\\huggingface\\hub\\models--sentence-transformers--all-mpnet-base-v2. Caching files will still work but in a degraded version that might require more space on your disk. This warning can be disabled by setting the `HF_HUB_DISABLE_SYMLINKS_WARNING` environment variable. For more details, see https://huggingface.co/docs/huggingface_hub/how-to-cache#limitations.\n",
      "To support symlinks on Windows, you either need to activate Developer Mode or to run Python as an administrator. In order to see activate developer mode, see this article: https://docs.microsoft.com/en-us/windows/apps/get-started/enable-your-device-for-development\n",
      "  warnings.warn(message)\n"
     ]
    }
   ],
   "source": [
    "from langchain_community.embeddings import HuggingFaceEmbeddings\n",
    "\n",
    "model_name = \"sentence-transformers/all-mpnet-base-v2\"\n",
    "model_kwargs = {'device': 'cpu'}\n",
    "encode_kwargs = {'normalize_embeddings': False}\n",
    "embedding = HuggingFaceEmbeddings(\n",
    "    model_name=model_name,\n",
    "    model_kwargs=model_kwargs,\n",
    "    encode_kwargs=encode_kwargs\n",
    ")"
   ]
  },
  {
   "cell_type": "markdown",
   "metadata": {},
   "source": [
    "### Save Vectors with de Embeddings"
   ]
  },
  {
   "cell_type": "code",
   "execution_count": null,
   "metadata": {},
   "outputs": [],
   "source": [
    "from langchain_chroma import Chroma\n",
    "\n",
    "db = Chroma.from_documents(splitters, embedding)\n",
    "retriever = db.as_retriever(\n",
    "    search_type=\"mmr\",  # Also test \"similarity\"\n",
    "    search_kwargs={\"k\": 10},\n",
    ")"
   ]
  }
 ],
 "metadata": {
  "kernelspec": {
   "display_name": "Python 3",
   "language": "python",
   "name": "python3"
  },
  "language_info": {
   "codemirror_mode": {
    "name": "ipython",
    "version": 3
   },
   "file_extension": ".py",
   "mimetype": "text/x-python",
   "name": "python",
   "nbconvert_exporter": "python",
   "pygments_lexer": "ipython3",
   "version": "3.12.3"
  }
 },
 "nbformat": 4,
 "nbformat_minor": 2
}
