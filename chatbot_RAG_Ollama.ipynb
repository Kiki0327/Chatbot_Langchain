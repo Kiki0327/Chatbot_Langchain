{
 "cells": [
  {
   "cell_type": "markdown",
   "metadata": {},
   "source": [
    "# Notebook pruebas chatbot"
   ]
  },
  {
   "cell_type": "markdown",
   "metadata": {},
   "source": [
    "### Modulos instalados"
   ]
  },
  {
   "cell_type": "raw",
   "metadata": {
    "vscode": {
     "languageId": "raw"
    }
   },
   "source": [
    "pip install langchain pypdf pycryptodome sentence-transformers ollama"
   ]
  },
  {
   "cell_type": "code",
   "execution_count": null,
   "metadata": {},
   "outputs": [],
   "source": [
    "pip install chromadb"
   ]
  },
  {
   "cell_type": "markdown",
   "metadata": {},
   "source": [
    "### Llamando funciones y librerias"
   ]
  },
  {
   "cell_type": "code",
   "execution_count": 1,
   "metadata": {},
   "outputs": [],
   "source": [
    "import funtions_helper as fh"
   ]
  },
  {
   "cell_type": "markdown",
   "metadata": {},
   "source": [
    "### Cargando documentos"
   ]
  },
  {
   "cell_type": "code",
   "execution_count": 2,
   "metadata": {},
   "outputs": [
    {
     "name": "stdout",
     "output_type": "stream",
     "text": [
      "El objeto retornado por la función es de tipo: <class 'list'>. Y cada subobjeto es de tipo: <class 'langchain_core.documents.base.Document'>\n",
      "En total se cargaron 23 paginas\n",
      "A continuación se muestran como ejemplo las primeras 5 paginas:\n",
      "[Document(page_content='Aborda el estudio de la administración con un enfoque humano.\\nUna planta docente con formación doctoral.\\nAmplia experiencia en investigación aplicada a las organizaciones.\\nHa recibido reconocimientos como el Premio AUIP a la Calidad del Posgrado y el \\nDoctorado en Iberoamérica (2005) y la Mención de la Asamblea Departamental \\n(2014) y el Concejo Municipal.\\nEgresados reconocidos y con altas posiciones directivas\\nhttp://administr acion. univa lle.edu.co/maest ria-a dministracion\\nTels.: (602) 3212100, Ext. 4341, 4769 ::: magisadm@correounivalle.edu.co\\nCalle 4B No. 36-00 / Edificio 124 Oficina 2060, Universidad del Valle, Campus San Fernando¿Dónde se oferta?\\nCali y Tuluá\\nSNIES: 660 MENDuración\\n4 semest resTítulo otorgado,\\ndedicación y créditos\\nMag íster en A dmin istración\\nDedicación tiempo p arcial\\nCréditos 39\\nLa Maestría en Administración  ha sido pionera en la formación gerencial con más de 50 años de enriquecedora \\nexperiencia. Los estudiantes reciben una sólida fundamentación teórica en el conocimiento administrativo para \\nser aplicado en las organizaciones, partiendo de un profundo respeto por el ser humano  y el compromiso con \\nel desarrollo de la región y del país.\\nRazones de liderazgo\\nContáctanos\\nMaestría en\\nAdministración\\nFieles al enfoque humanista de la Administración Facultad de Ciencias\\nde la Administración\\n', metadata={'source': 'documents/master_administracion.pdf', 'page': 0}), Document(page_content='Perfil del egresado\\nLos egresado s de la Maestría en Administ ración estarán  \\nen capacida d de: Dese mpeñarse como directivos y \\ngerentes porqu e habrán obtenido una sólida formac ión \\nteórica  y metodoló gica en las áreas  de la adm inistra-\\nción  y porque habrán desarrolla do una alta capacida d \\nreflexiva  que le perm itirá analizar y tomar decisiones \\nque resule van lo mejor posible los diferentes problem as \\ndel mun do empresarial. Dese mpeñarse  como profesio-\\nnales investigad ores, consulto res y asesores de las \\nCien cias Administrativas porque habr án desarrollado \\ncapacidad de análisis y de investigació n en el área  de la \\nGestión y de la Adm inistra ción  de Empresas.\\nProceso de selección\\n•Hoja de vida: 60%\\n*Experiencia laboral: 30%\\n*Formación académica: 15%\\n*Formación personal complementaria: 15%\\n•\\n• Entrevista: 40%\\n Sin pruebaLas asignaturas electivas de la maestría se programarán \\nde acuerdo con la oferta del semestre respectivo. Por \\nflexibilidad curricular los estudiantes podrán optar por \\nasignaturas de otros posgrados de la Facultad y la Univer -\\nsidad del Valle. Igualmente se puede revisar la movilidad \\nnacional por convenio interinstitucional de acuerdo con la \\nnormativa vigente.Plan curricular\\nValo r de la ma trícula financiera  por semes tre\\nValor de contraseña de inscripción\\nValor de derechos de inscripción\\nValores adicionales8 Salarios Mínim os Mensu ales Legales Vigentes\\n4% de (1) SMM LV\\n30% de  (1) SM MLV\\nIntern et, se rvicio méd ico y otros\\nLa Universid ad del Valle ofrece la posibilidad de financiación en tres cuotas del valor de la matrícu -\\nla, así como otros medios de pago como tarjeta de créd ito, débito, entre otras. Se aplicará un 3% de \\nrecargo.\\nDescuentos y exenciones\\nLa Unive rsidad b rinda e l 10% del valor de matrícul a básica  por efecto de votación de acuerdo con \\nlos line amientos  vigentes al momento de ex pedi ción del recibo de pago.\\nPara más información remitirse a: http://matriculafinanciera.univalle.edu.coValor de la inversión\\nConoce más en: http://administracion.univalle.edu.co/UnivalleCanalFCA @admonunivalle /administ racionunivalle Síguenos en nues tras red es: @ad monunivalle\\nLa Universidad del Valle es una institución vigilada por el Ministerio de Educación NacionalCréditos\\n9\\n3\\n3\\n3\\n9\\n3\\n3\\n3\\n9\\n3\\n3\\n3\\n12\\n3\\n3\\n6\\n39Asigna tura s\\nSemest re 1\\nTeorías de la administración y de la  gestión\\nCienc ias human as y ge stión\\nSeminario  de Investig ación\\nSemest re 2\\nMetodolog ías y estrategias de la investigación\\nAnálisis y diagnóstico del entorno\\nElect iva de fundamentaci ón\\nSemest re 3\\nDirección  de empre sas\\nPrevisión  y pensamiento estrat égico\\nElect iva profesional I\\nSemest re 4\\nElect iva profesional II\\nElect iva profesional III\\nTraba jo de grado\\nTotal créditos\\ncon Talento Humano', metadata={'source': 'documents/master_administracion.pdf', 'page': 1}), Document(page_content='¿Dónde se oferta?\\nCali\\nTuluáDuración\\n4 semestres Inversión\\npor semestre\\n8 SMMLV', metadata={'source': 'documents/master_administracion.pdf', 'page': 2}), Document(page_content='Primer programa de Maestría en Contabilidad  en el Sur Occidente \\ncolombiano y pionero en el país.\\nPlanta docente de alta calidad , en su mayoría investigadores reconoci -\\ndos con formación doctoral¿Dónde se oferta?\\n- Cali, Campus San Ferna ndo\\nSNIES: 90875 MENDuración\\n4 semest resTítulo otorgado,\\ndedicación y créditos\\nMag íster en Conta bilidad \\nDedicación tiempo  com pleto\\nCréditos 42\\nLa Maestría en Contabilidad, modalidad profundización , está orientada al de-\\nsarrollo de los conocimientos, las competencias y los instrumentos técnicos ne-\\ncesarios que le permiten al profesional enfrentarse a diferentes situaciones \\ncomplejas que se presentan en el mundo empresarial.\\nRazones de liderazgo\\nConoce más en: http://adminis tracion. univa lle.edu.co/ma estrias /maestria-en-contabilidad-modalida d-investig acion\\nTel:  (602) 5185722, (602) 5185763 ::: maestriacontabilidad@correounivalle.edu.co\\nCalle 4B # 36-00, edif. 124, Ofc. 3026, Universidad del Valle, Campus San Fernando\\nContáctanosPrepárate para enfrentar las situaciones complejas del mundo empresarial Maestría en Contabilidad\\nModalidad Profundización\\nFacultad de Ciencias\\nde la Administración\\n', metadata={'source': 'documents/master_contabilidad.pdf', 'page': 0}), Document(page_content='Líneas de profundización\\n• Contaduría Internacional\\n• Costos y G estión\\n• Control y Auditoría\\n• Tribut aría\\n• Contabilid ad\\n• Financiera\\n• Gestión de Rie sgos Financieros\\n• Gestión Basa da en el Valor\\n• Contabilid ad y Finanzas Públic as\\n• Gestión de Lava do de Activos y Financiac ión d el Terrorism o\\n• Responsabilidad Social (Empresaria l y Corporativa)\\n• Valoración de Activo s Intangibles\\n• Gestión y Evalu ación  Proyectos\\n• Microfi nanz as\\n• Gestión de Empre sas de Eco nomía Solidaria\\nPerfil del egresado\\nLos egresa dos estarán en capa cidad  de desarro llar e imple -\\nmentar modelo s de gestión cont able para las empresas del \\nmedio local y region al, que perm itan la comprensión de los \\nestilos de gest ión y la responsabilidad  social organizac ional. \\nAsí mismo, podrán desemp eñarse como auditores y revisores \\nfiscales de la informac ión económica, financie ra y social de las \\norgan izaciones e instituciones exist entes en la región.\\nProceso de selección\\n• Entrevist a individu al con un docente del Comité o de la \\nFacultad de Ciencias de  la Administración (40%).\\n• Hoja de vida ( 60%).\\n•Las asigna turas electivas de la maes tría se programa-\\nrán de acuerdo con la oferta del semes tre respectivo. \\nPor flexibilidad curricul ar los estudiantes  podr án optar \\npor asigna turas de otros posgrados  de la Facultad y la \\nUniversid ad del Valle. Igualmente se puede revisa r la \\nmovilidad  nacional por conve nio interin stitucional de \\nacue rdo con  la nor mativa vigente.Plan curricular\\nValor de la matrícula financiera  por semes tre\\nValor de contraseña de inscripción\\nValor de derechos de inscripción\\nValores adicionales8 Salarios Mínimos Mensuales Legales Vigentes\\n4% de (1) SMMLV\\n30% de (1) SMMLV\\nInternet, servicio médico y otros\\nLa Universid ad del Valle ofrece la posibilidad de financiación en tres cuotas del valo r de la matrícu-\\nla, así como otros medio s de pago como tarjeta de crédito, débito, entre otras. Se aplicará un 3% de \\nrecargo.\\nDescuentos y exenciones\\nLa Universid ad b rinda el 10% del valor de matrícul a básica  por efecto de votación de acuerdo con \\nlos lineamientos vigen tes al momento de ex pedi ción del recibo de pago.\\nPara más información remitirse a: http://matriculafinanciera.univalle.edu.coValor de la inversión\\nConoce más en: http://administracion.univalle.edu.co/UnivalleCanalFCA @admonunivalle /administracionunivalle Síguenos en nues tras redes : @ad monunivalle\\nLa Universidad del Valle es una institución vigilada por el Ministerio de Educación NacionalCréditos\\n11\\n3\\n4\\n2\\n2\\n9\\n2\\n2\\n2\\n3\\n16\\n4\\n4\\n4\\n4\\n6\\n6\\n42Asignat uras\\nSemestre 1\\nContadu ría Intern aciona l\\nTeoría de la contabilida d\\nECF I: Normas Intern acio nale s de Información \\nFinanciera (NIIF Plenas)\\nECF II:  Normas Internac iona les d e Informa ción  \\nFinanciera (NIIF Plenas)\\nSemestre 2\\nECF II:  Normas Internac iona les d e Informa ción  \\nFinanciera PYMES (NIIF PYMES)\\nGobiern o corporativo\\nContabilid ad d e gestión\\nValorac ión y f inancia ción d e emp resas\\nSemestre 3\\nCiencia s humanas y contabilida d\\nAnálisis y dia gnósticos del entorn o de SIC ( Sistemas de \\ninforma ción contable)\\nSeminario de investigació n\\nMetodología  y estrategia s de investigación\\nSemestre 4\\nTrabajo  de inve stigac ión\\nTotal créditos\\ncon Talento HumanoSin prueba', metadata={'source': 'documents/master_contabilidad.pdf', 'page': 1})]\n"
     ]
    }
   ],
   "source": [
    "pages = fh.load_files(path_files='documents/', debug=True)"
   ]
  },
  {
   "cell_type": "markdown",
   "metadata": {},
   "source": [
    "### Fragmentando"
   ]
  },
  {
   "cell_type": "code",
   "execution_count": 3,
   "metadata": {},
   "outputs": [
    {
     "name": "stdout",
     "output_type": "stream",
     "text": [
      "Los fragmentos son de tamaño: 500 y la superposicion es igual a: 50.0\n",
      "El número de fragmentos total es igual a: 84\n"
     ]
    }
   ],
   "source": [
    "splitters = fh.Splitting(obj=pages, chunk_size=500, debug=True)"
   ]
  },
  {
   "cell_type": "markdown",
   "metadata": {},
   "source": [
    "### Embeddings"
   ]
  },
  {
   "cell_type": "code",
   "execution_count": 4,
   "metadata": {},
   "outputs": [],
   "source": [
    "from langchain_community.vectorstores import Chroma # Guardar indices con los vectores y embeddings de forma local\n",
    "from langchain_community.embeddings import OllamaEmbeddings # Embeddings con Llama 3\n",
    "from langchain_core.output_parsers import StrOutputParser # Transformar las respuestas\n",
    "from langchain_core.runnables import RunnablePassthrough # Ejecutar\n",
    "import ollama # Modelo llama 3"
   ]
  },
  {
   "cell_type": "code",
   "execution_count": 5,
   "metadata": {},
   "outputs": [],
   "source": [
    "embedding = OllamaEmbeddings(model='llama3')\n",
    "vectorstore = Chroma.from_documents(documents=splitters, embedding=embedding, collection_name='indice_chroma')"
   ]
  },
  {
   "cell_type": "code",
   "execution_count": 6,
   "metadata": {},
   "outputs": [],
   "source": [
    "def Ollama_llm(question, context):\n",
    "    formatted_prompt = f'Pregunta: {question}\\n\\nContexto (responde solo sobre el contenido del contexto entregado): {context}'\n",
    "    response = ollama.chat(model='llama3',messages=[{'role':'user', 'content':formatted_prompt}],options={'temperature':0})\n",
    "    return response['message']['content']"
   ]
  },
  {
   "cell_type": "code",
   "execution_count": 7,
   "metadata": {},
   "outputs": [],
   "source": [
    "retriever = vectorstore.as_retriever()\n",
    "def combine_docs(docs):\n",
    "    return '\\n\\n'.join(doc.page_content for doc in docs)"
   ]
  },
  {
   "cell_type": "code",
   "execution_count": 8,
   "metadata": {},
   "outputs": [],
   "source": [
    "def rag_chain(question):\n",
    "    retrieved_docs = retriever.invoke(question)\n",
    "    formatted_context = combine_docs(retrieved_docs)\n",
    "    return Ollama_llm(question, formatted_context)"
   ]
  },
  {
   "cell_type": "code",
   "execution_count": 9,
   "metadata": {},
   "outputs": [
    {
     "name": "stdout",
     "output_type": "stream",
     "text": [
      "En el contexto de la Maestría en Estadística, los objetivos pueden ser:\n",
      "\n",
      "1. Desarrollar habilidades en análisis estadístico y resolución de problemas para informar decisiones en salud pública.\n",
      "2. Aplicar técnicas estadísticas avanzadas para evaluar programas y proyectos sociales en salud.\n",
      "3. Entrenar a los estudiantes en la capacidad de diseñar, implementar y evaluar estudios epidemiológicos y de investigación en salud.\n",
      "4. Fomentar la toma de decisiones informadas mediante el uso de datos y análisis estadístico en la gestión de proyectos y programas en salud.\n",
      "5. Desarrollar habilidades en la comunicación efectiva de resultados estadísticos a diferentes audiencias, incluyendo líderes políticos, profesionales de la salud y comunidades afectadas.\n",
      "6. Entrenar a los estudiantes en la capacidad de trabajar en equipo y colaborativamente con otros profesionales para resolver problemas en salud pública.\n",
      "7. Fomentar la reflexión crítica sobre la importancia de la estadística en la toma de decisiones en salud pública y su impacto en la política pública.\n",
      "\n",
      "En general, los objetivos de la Maestría en Estadística se centran en desarrollar habilidades y conocimientos en análisis estadístico, resolución de problemas, diseño de estudios y evaluación de programas y proyectos sociales en salud.\n"
     ]
    }
   ],
   "source": [
    "result = rag_chain('¿Cuales son los objetivos de la Maestria en Estadistica?')\n",
    "print(result)"
   ]
  }
 ],
 "metadata": {
  "kernelspec": {
   "display_name": "Python 3",
   "language": "python",
   "name": "python3"
  },
  "language_info": {
   "codemirror_mode": {
    "name": "ipython",
    "version": 3
   },
   "file_extension": ".py",
   "mimetype": "text/x-python",
   "name": "python",
   "nbconvert_exporter": "python",
   "pygments_lexer": "ipython3",
   "version": "3.12.3"
  }
 },
 "nbformat": 4,
 "nbformat_minor": 2
}
