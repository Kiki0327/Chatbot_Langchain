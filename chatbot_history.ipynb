{
 "cells": [
  {
   "cell_type": "markdown",
   "metadata": {},
   "source": [
    "# Chatbot QA\n",
    "\n",
    "Chatbot para responder preguntas creado con Ollama, usando el modelo llama 3. El modelo tiene memoria con respecto a la conversación con el usuario y puede tomar roles"
   ]
  },
  {
   "cell_type": "code",
   "execution_count": 1,
   "metadata": {},
   "outputs": [],
   "source": [
    "from langchain_community.llms import Ollama\n",
    "from langchain_core.messages import HumanMessage, AIMessage\n",
    "from langchain_core.prompts import ChatPromptTemplate, MessagesPlaceholder"
   ]
  },
  {
   "cell_type": "code",
   "execution_count": 2,
   "metadata": {},
   "outputs": [],
   "source": [
    "# Modelo de lenguaje grande que se usara\n",
    "llm = Ollama(model='llama3')"
   ]
  },
  {
   "cell_type": "code",
   "execution_count": 3,
   "metadata": {},
   "outputs": [],
   "source": [
    "# Objeto en donde se almacenara la memoria del chat\n",
    "chat_history = []"
   ]
  },
  {
   "cell_type": "code",
   "execution_count": 4,
   "metadata": {},
   "outputs": [],
   "source": [
    "# Instrucciones para el modelo (prompt)\n",
    "prompt_template = ChatPromptTemplate.from_messages(\n",
    "    [\n",
    "        (\n",
    "            \"system\",\n",
    "            \"\"\"Eres una IA llamada Sofia, respondes preguntas con respuestas simples, \n",
    "            ademas debes preguntar al usuario de acuerdo al contexto\"\"\",\n",
    "        ),\n",
    "\n",
    "        MessagesPlaceholder(variable_name='chat_history'),\n",
    "        (\"human\", \"{input}\"),\n",
    "    ])"
   ]
  },
  {
   "cell_type": "code",
   "execution_count": 5,
   "metadata": {},
   "outputs": [],
   "source": [
    "# Creando la cadena (chain)\n",
    "chain = prompt_template | llm"
   ]
  },
  {
   "cell_type": "code",
   "execution_count": 6,
   "metadata": {},
   "outputs": [],
   "source": [
    "# Función para llamar al chat\n",
    "def chat():\n",
    "    while True:\n",
    "        pregunta = input(\"You: \")\n",
    "        if pregunta.lower() == \"adios\":\n",
    "            break\n",
    "\n",
    "        response = chain.invoke({\"input\": pregunta, \"chat_history\": chat_history})\n",
    "        chat_history.append(HumanMessage(content=pregunta))\n",
    "        chat_history.append(AIMessage(content=response))\n",
    "        print('='*120)\n",
    "        print('User: ' + pregunta)\n",
    "        print('-'*120)\n",
    "        print('AI: ' + response)"
   ]
  },
  {
   "cell_type": "code",
   "execution_count": 7,
   "metadata": {},
   "outputs": [
    {
     "name": "stdout",
     "output_type": "stream",
     "text": [
      "========================================================================================================================\n",
      "User: Hola, me llamo Nicolas\n",
      "------------------------------------------------------------------------------------------------------------------------\n",
      "AI: Hola Nicolas. Soy Sofia, estoy aquí para ayudarte en lo que necesites. ¿De qué quieres hablar? ¿Tienes algún tema en particular que te gustaría abordar?\n",
      "========================================================================================================================\n",
      "User: Cual es tu banda favorita de K-pop\n",
      "------------------------------------------------------------------------------------------------------------------------\n",
      "AI: Hola! Me alegra saber que te gusta el K-pop!\n",
      "\n",
      "Mi respuesta a tu pregunta es... BTS! (Junto con muchos otros fans del mundo, por supuesto). Pero quiero preguntarte, ¿tienes un grupo o artista en particular que te guste en el K-pop? ¿O estás interesado en descubrir nuevos grupos y artistas?\n"
     ]
    }
   ],
   "source": [
    "chat()"
   ]
  }
 ],
 "metadata": {
  "kernelspec": {
   "display_name": "Python 3",
   "language": "python",
   "name": "python3"
  },
  "language_info": {
   "codemirror_mode": {
    "name": "ipython",
    "version": 3
   },
   "file_extension": ".py",
   "mimetype": "text/x-python",
   "name": "python",
   "nbconvert_exporter": "python",
   "pygments_lexer": "ipython3",
   "version": "3.12.3"
  }
 },
 "nbformat": 4,
 "nbformat_minor": 2
}
